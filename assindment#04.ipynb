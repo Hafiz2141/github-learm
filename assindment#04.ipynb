{
 "cells": [
  {
   "cell_type": "markdown",
   "id": "bc6e531b-09d8-482f-bd66-c7c89e46f4c8",
   "metadata": {},
   "source": [
    "# Assindment list"
   ]
  },
  {
   "cell_type": "code",
   "execution_count": 4,
   "id": "dee2aa7e-2caf-40e9-91be-137bf1f1be36",
   "metadata": {},
   "outputs": [
    {
     "name": "stdin",
     "output_type": "stream",
     "text": [
      "Enter the list elements separated by space:  51\n"
     ]
    }
   ],
   "source": [
    "lst = list(map(int, input(\"Enter the list elements separated by space: \").split()))"
   ]
  },
  {
   "cell_type": "code",
   "execution_count": 5,
   "id": "887db57d-e065-4d0e-813a-ff5ed618e3c5",
   "metadata": {},
   "outputs": [
    {
     "name": "stdout",
     "output_type": "stream",
     "text": [
      "alternal elements of the list : [51]\n"
     ]
    }
   ],
   "source": [
    "print(\"alternal elements of the list :\", lst[::2])"
   ]
  },
  {
   "cell_type": "markdown",
   "id": "c5d15342-89e2-45bd-9cf5-6bad76665fde",
   "metadata": {},
   "source": [
    "### Q: no:2"
   ]
  },
  {
   "cell_type": "code",
   "execution_count": 6,
   "id": "0c6489c0-40ec-4b81-8e17-7fc2848129cc",
   "metadata": {},
   "outputs": [
    {
     "name": "stdin",
     "output_type": "stream",
     "text": [
      "Enter the list of elements separated by apace:  22\n"
     ]
    }
   ],
   "source": [
    "lst = list(map(int, input(\"Enter the list of elements separated by apace: \").split()))"
   ]
  },
  {
   "cell_type": "code",
   "execution_count": 8,
   "id": "d10f5871-15d0-4b5c-9d9c-7eabf0f97110",
   "metadata": {},
   "outputs": [],
   "source": [
    "reversed_lst = lst[::1]"
   ]
  },
  {
   "cell_type": "code",
   "execution_count": 9,
   "id": "13e26cfb-7836-4fca-bad3-e97ea3884f3d",
   "metadata": {},
   "outputs": [
    {
     "name": "stdout",
     "output_type": "stream",
     "text": [
      "Reversed list : [22]\n"
     ]
    }
   ],
   "source": [
    "print(\"Reversed list :\",reversed_lst)"
   ]
  },
  {
   "cell_type": "markdown",
   "id": "5f007447-b39a-4330-b61e-92cf979d6369",
   "metadata": {},
   "source": [
    "### Q: no:3"
   ]
  },
  {
   "cell_type": "code",
   "execution_count": 19,
   "id": "c294b472-193a-458e-83ed-58682eb17381",
   "metadata": {},
   "outputs": [
    {
     "name": "stdin",
     "output_type": "stream",
     "text": [
      "Enter the list elements separated by space:  65\n"
     ]
    }
   ],
   "source": [
    "lst = list(map(int, input(\"Enter the list elements separated by space: \").split()))"
   ]
  },
  {
   "cell_type": "raw",
   "id": "73f588c8-20ca-4b17-969e-6a3da23d9106",
   "metadata": {},
   "source": [
    "largest = lst[0]\n",
    "for num in lst:\n",
    "    if num > largest:\n",
    "        largest = num"
   ]
  },
  {
   "cell_type": "code",
   "execution_count": 28,
   "id": "606f6daf-548b-49e3-9dc6-a107502d2e64",
   "metadata": {},
   "outputs": [
    {
     "name": "stdout",
     "output_type": "stream",
     "text": [
      "Largest number in the list: largest\n"
     ]
    }
   ],
   "source": [
    "print(\"Largest number in the list:\", 'largest')"
   ]
  },
  {
   "cell_type": "markdown",
   "id": "f767efe4-fa9f-4529-a02b-6668038cf9a3",
   "metadata": {},
   "source": [
    "## Q: no:4"
   ]
  },
  {
   "cell_type": "code",
   "execution_count": 29,
   "id": "2b7b4fd8-9648-4e99-86c8-61895efe7cea",
   "metadata": {},
   "outputs": [
    {
     "name": "stdin",
     "output_type": "stream",
     "text": [
      "Enter the list of elements separated by apace:  21\n"
     ]
    }
   ],
   "source": [
    "lst = list(map(int, input(\"Enter the list of elements separated by apace: \").split()))"
   ]
  },
  {
   "cell_type": "code",
   "execution_count": 31,
   "id": "e4184a6d-0982-49b2-b98a-bad2f454e77f",
   "metadata": {},
   "outputs": [],
   "source": [
    "rotated_list = lst[1:] + [lst[0]]"
   ]
  },
  {
   "cell_type": "code",
   "execution_count": 33,
   "id": "fa8d6829-1798-4fc3-8ecd-1d06f1365670",
   "metadata": {},
   "outputs": [
    {
     "name": "stdout",
     "output_type": "stream",
     "text": [
      "Rotated list: [21]\n"
     ]
    }
   ],
   "source": [
    "print(\"Rotated list:\", rotated_list)"
   ]
  },
  {
   "cell_type": "markdown",
   "id": "058a4517-1aa7-4c11-a6dd-c3bc8b9c9a37",
   "metadata": {},
   "source": [
    "### Q:no:5"
   ]
  },
  {
   "cell_type": "code",
   "execution_count": 34,
   "id": "1724d9f8-c3aa-4fa9-ad41-61db68328997",
   "metadata": {},
   "outputs": [
    {
     "name": "stdin",
     "output_type": "stream",
     "text": [
      "Enter a sentence:  hammad\n",
      "Enter the word to delete:  comma\n"
     ]
    }
   ],
   "source": [
    "sentence = input(\"Enter a sentence: \")\n",
    "word_to_delete = input(\"Enter the word to delete: \")"
   ]
  },
  {
   "cell_type": "code",
   "execution_count": 35,
   "id": "011178c1-5ece-4e8b-88c4-c270fb3e77f1",
   "metadata": {},
   "outputs": [],
   "source": [
    "updated_sentence = sentence.replace(word_to_delete, \"\").strip()"
   ]
  },
  {
   "cell_type": "code",
   "execution_count": 36,
   "id": "37991eab-2909-4761-8f68-cab885ada55d",
   "metadata": {},
   "outputs": [
    {
     "name": "stdout",
     "output_type": "stream",
     "text": [
      "Updated_sentance: hammad\n"
     ]
    }
   ],
   "source": [
    "print(\"Updated_sentance:\",updated_sentence)"
   ]
  },
  {
   "cell_type": "markdown",
   "id": "ff5c5203-9bd6-419b-a3d4-27bcfbc6f748",
   "metadata": {},
   "source": [
    "### Q: no:6"
   ]
  },
  {
   "cell_type": "code",
   "execution_count": 41,
   "id": "c9a0c4d1-798f-4906-b574-c396b567f484",
   "metadata": {},
   "outputs": [],
   "source": [
    "from datetime import datetime"
   ]
  },
  {
   "cell_type": "code",
   "execution_count": 48,
   "id": "a7e28f11-25ca-4931-a784-54070c5bd034",
   "metadata": {},
   "outputs": [
    {
     "name": "stdin",
     "output_type": "stream",
     "text": [
      "Enter the date in mm/dd/yyyy format:  03/22/2025\n"
     ]
    }
   ],
   "source": [
    "date_input = input(\"Enter the date in mm/dd/yyyy format: \")"
   ]
  },
  {
   "cell_type": "code",
   "execution_count": 49,
   "id": "cd8974de-045f-4532-9602-2d2ba88f3338",
   "metadata": {},
   "outputs": [],
   "source": [
    "formatted_date = datetime.strptime(date_input, \"%m/%d/%Y\").strftime(\"%B %d, %Y\")"
   ]
  },
  {
   "cell_type": "code",
   "execution_count": 54,
   "id": "6e3a024b-61de-4ee9-88fb-8bff10cfae44",
   "metadata": {},
   "outputs": [
    {
     "name": "stdout",
     "output_type": "stream",
     "text": [
      "Formatted_date: March 22, 2025\n"
     ]
    }
   ],
   "source": [
    "print(\"Formatted_date:\", formatted_date)"
   ]
  },
  {
   "cell_type": "markdown",
   "id": "af6432ff-57ac-42e6-aa7b-ea09f0317d75",
   "metadata": {},
   "source": [
    "### Q: no:7"
   ]
  },
  {
   "cell_type": "code",
   "execution_count": 55,
   "id": "e6d723e8-0add-4fa1-861a-753e139af854",
   "metadata": {},
   "outputs": [
    {
     "name": "stdin",
     "output_type": "stream",
     "text": [
      "Enter a sentence:  good\n"
     ]
    }
   ],
   "source": [
    "sentence = input(\"Enter a sentence: \")"
   ]
  },
  {
   "cell_type": "code",
   "execution_count": 56,
   "id": "67a43b05-645b-4d5b-9719-35cf9bd36f90",
   "metadata": {},
   "outputs": [],
   "source": [
    "capitilazed_sentence = sentence.title()"
   ]
  },
  {
   "cell_type": "code",
   "execution_count": 57,
   "id": "2f4213f5-bb10-4f20-aa3b-fa43c01f8cc1",
   "metadata": {},
   "outputs": [
    {
     "name": "stdout",
     "output_type": "stream",
     "text": [
      "fomatted_sentence: Good\n"
     ]
    }
   ],
   "source": [
    "print(\"fomatted_sentence:\", capitilazed_sentence)"
   ]
  },
  {
   "cell_type": "markdown",
   "id": "afc81fce-d765-4a61-8339-9fa0947ceb38",
   "metadata": {},
   "source": [
    "### Q: no:8"
   ]
  },
  {
   "cell_type": "code",
   "execution_count": 89,
   "id": "9aeed190-dc85-4ddd-8ed2-ddc2b54daf84",
   "metadata": {},
   "outputs": [
    {
     "name": "stdin",
     "output_type": "stream",
     "text": [
      "Enter matrix size (rows columns):  6 3\n"
     ]
    },
    {
     "name": "stdout",
     "output_type": "stream",
     "text": [
      "Matrix size: 6 rows and 3 columns\n"
     ]
    }
   ],
   "source": [
    "m,n = map(int, input(\"Enter matrix size (rows columns): \").split())\n",
    "print(f\"Matrix size: {m} rows and {n} columns\")"
   ]
  },
  {
   "cell_type": "code",
   "execution_count": 90,
   "id": "745c3f03-f18f-4d6b-a608-4b6b9d66476d",
   "metadata": {},
   "outputs": [
    {
     "name": "stdout",
     "output_type": "stream",
     "text": [
      "Enter first mitrix:\n"
     ]
    },
    {
     "name": "stdin",
     "output_type": "stream",
     "text": [
      " 2\n",
      " 5\n",
      " 8\n",
      " 11\n",
      " 2\n",
      " 3\n"
     ]
    }
   ],
   "source": [
    "print(\"Enter first mitrix:\")\n",
    "matrix1 = [list(map(int, input().split())) for _ in range (m)]"
   ]
  },
  {
   "cell_type": "code",
   "execution_count": 91,
   "id": "6146d3ea-188b-489a-b941-9d0b9eacae95",
   "metadata": {},
   "outputs": [
    {
     "name": "stdout",
     "output_type": "stream",
     "text": [
      "Enter second matrix:\n"
     ]
    },
    {
     "name": "stdin",
     "output_type": "stream",
     "text": [
      " 7\n",
      " 9\n",
      " 10\n",
      " 12\n",
      " 15\n",
      " 42\n"
     ]
    }
   ],
   "source": [
    "print(\"Enter second matrix:\")\n",
    "matrix2 = [list(map(int, input().split())) for _ in range(m)]"
   ]
  },
  {
   "cell_type": "code",
   "execution_count": 94,
   "id": "934123ca-10c0-4fc7-b680-2d0ddfbd436a",
   "metadata": {},
   "outputs": [
    {
     "name": "stdout",
     "output_type": "stream",
     "text": [
      "6 6\n",
      "1 1\n"
     ]
    }
   ],
   "source": [
    "print(len(matrix1), len(matrix2))\n",
    "print(len(matrix1[0]), len(matrix2[0]))"
   ]
  },
  {
   "cell_type": "code",
   "execution_count": 97,
   "id": "0dc3f79b-6f0a-4092-b397-89d1b966756f",
   "metadata": {},
   "outputs": [],
   "source": [
    "matrix1 = [[1, 2, 3], [4, 5, 6]]\n",
    "matrix2 = [[7, 8, 9], [10, 11, 12]]"
   ]
  },
  {
   "cell_type": "code",
   "execution_count": 99,
   "id": "0f94bd83-579e-4472-a9ae-1a5ee8a240a0",
   "metadata": {},
   "outputs": [],
   "source": [
    "result = [[matrix1[i][j] + matrix2[i][j] for j in range(len(matrix1[0]))] for i in range(len(matrix1))]"
   ]
  },
  {
   "cell_type": "code",
   "execution_count": 100,
   "id": "705b3489-6c9d-4a74-85c3-ca70d16e6f60",
   "metadata": {},
   "outputs": [
    {
     "name": "stdout",
     "output_type": "stream",
     "text": [
      "Resultant matrix after addition:\n",
      "8 10 12\n",
      "14 16 18\n"
     ]
    }
   ],
   "source": [
    "print(\"Resultant matrix after addition:\")\n",
    "for row in result:\n",
    "    print(*row)"
   ]
  },
  {
   "cell_type": "markdown",
   "id": "9a6c0e54-8b8c-4f0e-a18c-383682e4437c",
   "metadata": {},
   "source": [
    "### Q: no:9"
   ]
  },
  {
   "cell_type": "code",
   "execution_count": 102,
   "id": "55999923-8c3c-4b54-8449-54c661762f49",
   "metadata": {},
   "outputs": [
    {
     "name": "stdin",
     "output_type": "stream",
     "text": [
      "Enter sizes of matrices (rows of A, cols of A/rows of B, cols of B):  3 4 5\n"
     ]
    }
   ],
   "source": [
    "m, n, p = map(int, input(\"Enter sizes of matrices (rows of A, cols of A/rows of B, cols of B): \").split())"
   ]
  },
  {
   "cell_type": "code",
   "execution_count": 104,
   "id": "c6c3ff14-7a72-419e-9489-2914c752005c",
   "metadata": {},
   "outputs": [
    {
     "ename": "SyntaxError",
     "evalue": "unterminated string literal (detected at line 1) (2420421306.py, line 1)",
     "output_type": "error",
     "traceback": [
      "\u001b[1;36m  Cell \u001b[1;32mIn[104], line 1\u001b[1;36m\u001b[0m\n\u001b[1;33m    first matrix:\")\u001b[0m\n\u001b[1;37m                 ^\u001b[0m\n\u001b[1;31mSyntaxError\u001b[0m\u001b[1;31m:\u001b[0m unterminated string literal (detected at line 1)\n"
     ]
    }
   ],
   "source": [
    "first matrix:\")\n",
    "matrix1 = [list(map(int, input().split())) for _ in range(m)]"
   ]
  },
  {
   "cell_type": "code",
   "execution_count": null,
   "id": "14e17cc9-774f-4b35-95b6-dfb336cb9a69",
   "metadata": {},
   "outputs": [],
   "source": []
  }
 ],
 "metadata": {
  "kernelspec": {
   "display_name": "Python 3 (ipykernel)",
   "language": "python",
   "name": "python3"
  },
  "language_info": {
   "codemirror_mode": {
    "name": "ipython",
    "version": 3
   },
   "file_extension": ".py",
   "mimetype": "text/x-python",
   "name": "python",
   "nbconvert_exporter": "python",
   "pygments_lexer": "ipython3",
   "version": "3.12.7"
  }
 },
 "nbformat": 4,
 "nbformat_minor": 5
}

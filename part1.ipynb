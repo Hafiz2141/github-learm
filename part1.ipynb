{
 "cells": [
  {
   "cell_type": "markdown",
   "id": "15135c59-9864-4e2f-8101-f3cacee05bfc",
   "metadata": {},
   "source": [
    "## Basic (Variables)"
   ]
  },
  {
   "cell_type": "markdown",
   "id": "af4ad46e-312c-4f26-8689-b3602825ae07",
   "metadata": {},
   "source": [
    "### Q:no:1"
   ]
  },
  {
   "cell_type": "code",
   "execution_count": 5,
   "id": "4a7a8d7d-e8ae-4435-bdb6-d9e6672980fd",
   "metadata": {},
   "outputs": [],
   "source": [
    "name = (\"Hafiz hammad\")\n",
    "FATHER_NAME = (\"Muhammad kamran\")\n",
    "date_of_birth = (\"April-17-2009\")"
   ]
  },
  {
   "cell_type": "code",
   "execution_count": 7,
   "id": "0cce5615-8399-4d75-84bf-92416494b39e",
   "metadata": {},
   "outputs": [
    {
     "name": "stdout",
     "output_type": "stream",
     "text": [
      "Hafiz hammad\n",
      "\n",
      "Muhammad kamran\n",
      "\n",
      "April-17-2009\n"
     ]
    }
   ],
   "source": [
    "print(name)\n",
    "print('''''')\n",
    "print(FATHER_NAME)\n",
    "print('''''')\n",
    "print(date_of_birth)"
   ]
  },
  {
   "cell_type": "markdown",
   "id": "ebdd4f8f-76fe-4633-a0f4-69d3bfb370dc",
   "metadata": {},
   "source": [
    "### Q:no:2"
   ]
  },
  {
   "cell_type": "code",
   "execution_count": 169,
   "id": "10df93a1-0086-4ecb-80e5-f3a4efdeca29",
   "metadata": {},
   "outputs": [],
   "source": [
    "name = \"Hafiz hammad\"\n",
    "age = 16 \n",
    "wieght = 43.3\n",
    "is_assignment = True"
   ]
  },
  {
   "cell_type": "code",
   "execution_count": 173,
   "id": "1dd0300a-f156-4e09-b25a-99d15cd095c3",
   "metadata": {},
   "outputs": [
    {
     "name": "stdout",
     "output_type": "stream",
     "text": [
      "Hafiz hammad\n",
      "<class 'str'>\n",
      "---------\n",
      "16\n",
      "<class 'int'>\n",
      "---------\n",
      "43.3\n",
      "<class 'float'>\n",
      "---------\n",
      "True\n",
      "<class 'bool'>\n",
      "---------\n"
     ]
    }
   ],
   "source": [
    "print(name)\n",
    "print(type(name))\n",
    "print('---------')\n",
    "print(age)\n",
    "print(type(age))\n",
    "print('---------')\n",
    "print(wieght)\n",
    "print(type(wieght))\n",
    "print('---------')\n",
    "print(is_assignment)\n",
    "print(type(is_assignment))\n",
    "print('---------')"
   ]
  },
  {
   "cell_type": "markdown",
   "id": "afdb3b77-f15a-4e1c-8bd0-e21052bf5482",
   "metadata": {},
   "source": [
    "### Q:no:3"
   ]
  },
  {
   "cell_type": "code",
   "execution_count": 266,
   "id": "6e34ba5f-9cdb-4d32-8bb3-ec84588b5beb",
   "metadata": {},
   "outputs": [
    {
     "name": "stdout",
     "output_type": "stream",
     "text": [
      "20\n"
     ]
    }
   ],
   "source": [
    "print(weight)\n"
   ]
  },
  {
   "cell_type": "code",
   "execution_count": 268,
   "id": "ca5702e1-c799-4efc-b4ff-f70fee7ae02a",
   "metadata": {},
   "outputs": [
    {
     "data": {
      "text/plain": [
       "74"
      ]
     },
     "execution_count": 268,
     "metadata": {},
     "output_type": "execute_result"
    }
   ],
   "source": [
    "weight + 54 # addition "
   ]
  },
  {
   "cell_type": "code",
   "execution_count": 270,
   "id": "7a284bee-cc05-4d28-926e-626cc3aa019c",
   "metadata": {},
   "outputs": [
    {
     "data": {
      "text/plain": [
       "4"
      ]
     },
     "execution_count": 270,
     "metadata": {},
     "output_type": "execute_result"
    }
   ],
   "source": [
    "weight - 16 # subtraction"
   ]
  },
  {
   "cell_type": "code",
   "execution_count": 272,
   "id": "c4f3fc11-536e-414f-98d1-abf698a045e5",
   "metadata": {},
   "outputs": [
    {
     "data": {
      "text/plain": [
       "1200"
      ]
     },
     "execution_count": 272,
     "metadata": {},
     "output_type": "execute_result"
    }
   ],
   "source": [
    "weight * 60 # Multiplacation"
   ]
  },
  {
   "cell_type": "code",
   "execution_count": 274,
   "id": "84bc185a-717b-446e-abc6-26fc630d8954",
   "metadata": {},
   "outputs": [
    {
     "data": {
      "text/plain": [
       "0.2857142857142857"
      ]
     },
     "execution_count": 274,
     "metadata": {},
     "output_type": "execute_result"
    }
   ],
   "source": [
    "weight / 70 # divicion"
   ]
  },
  {
   "cell_type": "code",
   "execution_count": 278,
   "id": "f0244f3f-1d7f-44c8-824f-17cac8fd2443",
   "metadata": {},
   "outputs": [],
   "source": [
    "value_add = 40"
   ]
  },
  {
   "cell_type": "code",
   "execution_count": 288,
   "id": "f9ad790a-4458-4b0b-b2cc-a5a8722e5f65",
   "metadata": {},
   "outputs": [],
   "source": [
    "weight = value_add"
   ]
  },
  {
   "cell_type": "code",
   "execution_count": 290,
   "id": "b87eac94-2ccc-4e41-986e-549af2763aba",
   "metadata": {},
   "outputs": [
    {
     "data": {
      "text/plain": [
       "40"
      ]
     },
     "execution_count": 290,
     "metadata": {},
     "output_type": "execute_result"
    }
   ],
   "source": [
    "weight"
   ]
  },
  {
   "cell_type": "code",
   "execution_count": 292,
   "id": "ebba6557-8814-4863-9020-1ef9881ea010",
   "metadata": {},
   "outputs": [],
   "source": [
    "weight += value_add"
   ]
  },
  {
   "cell_type": "code",
   "execution_count": 294,
   "id": "eff48a4e-8623-4b2e-acf2-5d622be7f195",
   "metadata": {},
   "outputs": [
    {
     "data": {
      "text/plain": [
       "80"
      ]
     },
     "execution_count": 294,
     "metadata": {},
     "output_type": "execute_result"
    }
   ],
   "source": [
    "weight"
   ]
  },
  {
   "cell_type": "code",
   "execution_count": 319,
   "id": "b11ef24f-e143-4de0-9df0-59e2f196aae4",
   "metadata": {},
   "outputs": [
    {
     "data": {
      "text/plain": [
       "13"
      ]
     },
     "execution_count": 319,
     "metadata": {},
     "output_type": "execute_result"
    }
   ],
   "source": [
    "int(40/3)"
   ]
  },
  {
   "cell_type": "code",
   "execution_count": 296,
   "id": "caa7365b-3d24-48dd-ac20-4061087a6a41",
   "metadata": {},
   "outputs": [],
   "source": [
    "value_subtract = 54"
   ]
  },
  {
   "cell_type": "code",
   "execution_count": 298,
   "id": "59a1cdaa-4146-4c8b-9d77-92481efddb9b",
   "metadata": {},
   "outputs": [],
   "source": [
    "weight -= value_subtract "
   ]
  },
  {
   "cell_type": "code",
   "execution_count": 300,
   "id": "e6e33b83-74f5-408d-a5c4-631c57d13c49",
   "metadata": {},
   "outputs": [
    {
     "data": {
      "text/plain": [
       "26"
      ]
     },
     "execution_count": 300,
     "metadata": {},
     "output_type": "execute_result"
    }
   ],
   "source": [
    "weight"
   ]
  },
  {
   "cell_type": "code",
   "execution_count": 308,
   "id": "06271fd4-3ce6-4768-ad63-7dd94327cbd3",
   "metadata": {},
   "outputs": [
    {
     "data": {
      "text/plain": [
       "110"
      ]
     },
     "execution_count": 308,
     "metadata": {},
     "output_type": "execute_result"
    }
   ],
   "source": [
    "40 + int(\"70\")"
   ]
  },
  {
   "cell_type": "code",
   "execution_count": 11,
   "id": "8486561a-ebd6-4d6a-baad-5b35aeed203b",
   "metadata": {},
   "outputs": [
    {
     "data": {
      "text/plain": [
       "2799360000000"
      ]
     },
     "execution_count": 11,
     "metadata": {},
     "output_type": "execute_result"
    }
   ],
   "source": [
    "60**7"
   ]
  },
  {
   "cell_type": "code",
   "execution_count": 13,
   "id": "c3f55913-2bb6-4755-a34e-fd1ddf32faee",
   "metadata": {},
   "outputs": [
    {
     "data": {
      "text/plain": [
       "10"
      ]
     },
     "execution_count": 13,
     "metadata": {},
     "output_type": "execute_result"
    }
   ],
   "source": [
    "70//7"
   ]
  },
  {
   "cell_type": "code",
   "execution_count": 321,
   "id": "06ab5918-b1eb-46fe-9733-e002510c78cd",
   "metadata": {},
   "outputs": [
    {
     "data": {
      "text/plain": [
       "0"
      ]
     },
     "execution_count": 321,
     "metadata": {},
     "output_type": "execute_result"
    }
   ],
   "source": [
    "60%5"
   ]
  },
  {
   "cell_type": "code",
   "execution_count": 323,
   "id": "191d9b22-a9df-438d-9388-3687c2f203c6",
   "metadata": {},
   "outputs": [
    {
     "data": {
      "text/plain": [
       "1"
      ]
     },
     "execution_count": 323,
     "metadata": {},
     "output_type": "execute_result"
    }
   ],
   "source": [
    "8^9"
   ]
  },
  {
   "cell_type": "markdown",
   "id": "de6c7818-8471-46f8-99a7-bccf5f2e93cd",
   "metadata": {},
   "source": [
    "### Q:no :4"
   ]
  },
  {
   "cell_type": "code",
   "execution_count": 5,
   "id": "289cc8a7-530f-4431-9aaf-a30c2c670290",
   "metadata": {},
   "outputs": [],
   "source": [
    "English_marks = 100\n",
    "Math_marks = 100\n",
    "Islamiat_marks = 100"
   ]
  },
  {
   "cell_type": "code",
   "execution_count": 6,
   "id": "e62a3351-51c9-4a9a-b292-7aead9ead82b",
   "metadata": {},
   "outputs": [],
   "source": [
    "total_marks = 300"
   ]
  },
  {
   "cell_type": "code",
   "execution_count": 7,
   "id": "416cfb63-c5da-49c2-823e-13542dcb880a",
   "metadata": {},
   "outputs": [],
   "source": [
    "total_obtained = English_marks+Math_marks+Islamiat_marks"
   ]
  },
  {
   "cell_type": "code",
   "execution_count": 8,
   "id": "591cbf60-97eb-48d6-b8ab-ffcf8eca5bb9",
   "metadata": {},
   "outputs": [],
   "source": [
    "percentage = (total_obtained / total_marks) * 100"
   ]
  },
  {
   "cell_type": "code",
   "execution_count": 9,
   "id": "f9589ae0-1c5b-42f9-803e-b1193be7736c",
   "metadata": {},
   "outputs": [
    {
     "name": "stdout",
     "output_type": "stream",
     "text": [
      "percentage: 100.0 %\n"
     ]
    }
   ],
   "source": [
    "print(\"percentage:\",percentage,\"%\")"
   ]
  },
  {
   "cell_type": "code",
   "execution_count": null,
   "id": "5c272ea1-d7ac-4ff2-b6d2-52ff4e754e7c",
   "metadata": {},
   "outputs": [],
   "source": []
  }
 ],
 "metadata": {
  "kernelspec": {
   "display_name": "Python 3 (ipykernel)",
   "language": "python",
   "name": "python3"
  },
  "language_info": {
   "codemirror_mode": {
    "name": "ipython",
    "version": 3
   },
   "file_extension": ".py",
   "mimetype": "text/x-python",
   "name": "python",
   "nbconvert_exporter": "python",
   "pygments_lexer": "ipython3",
   "version": "3.12.7"
  }
 },
 "nbformat": 4,
 "nbformat_minor": 5
}

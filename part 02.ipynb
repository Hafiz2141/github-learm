{
 "cells": [
  {
   "cell_type": "markdown",
   "id": "a370407e-8c43-45d9-b80f-3824cf03149a",
   "metadata": {},
   "source": [
    "### Basics (Conditional Statements)"
   ]
  },
  {
   "cell_type": "markdown",
   "id": "69c89855-4255-4d64-950b-7c8e1fc8ff60",
   "metadata": {},
   "source": [
    "## Q:no:01"
   ]
  },
  {
   "cell_type": "code",
   "execution_count": 3,
   "id": "c8eae046-39a7-4dbc-9c93-1eadd3b6cb07",
   "metadata": {},
   "outputs": [
    {
     "name": "stdin",
     "output_type": "stream",
     "text": [
      "Enter your salary:  5000\n",
      "Enter your years of service:  5\n"
     ]
    }
   ],
   "source": [
    "salary = float(input(\"Enter your salary: \"))\n",
    "years_of_service = int(input(\"Enter your years of service: \"))"
   ]
  },
  {
   "cell_type": "code",
   "execution_count": 4,
   "id": "9e0f67bc-79b4-47a2-af7d-7d4e978beca1",
   "metadata": {},
   "outputs": [
    {
     "name": "stdout",
     "output_type": "stream",
     "text": [
      "Sorry, you are not eligible for a bonus.\n"
     ]
    }
   ],
   "source": [
    "if years_of_service > 5:\n",
    "    bonus = salary * 0.05  # 5% of the salary\n",
    "    print(f\"Congratulations! Your bonus amount is: ${bonus:.2f}\")\n",
    "else:\n",
    "    print(\"Sorry, you are not eligible for a bonus.\")"
   ]
  },
  {
   "cell_type": "markdown",
   "id": "02b1518c-acad-4489-864d-20816e87fbd5",
   "metadata": {},
   "source": [
    "### Q:no:2"
   ]
  },
  {
   "cell_type": "code",
   "execution_count": 7,
   "id": "9f37526f-c161-4ff6-9fd8-5393f16cb385",
   "metadata": {},
   "outputs": [
    {
     "name": "stdin",
     "output_type": "stream",
     "text": [
      "Enter your age:  16\n"
     ]
    }
   ],
   "source": [
    "age = int(input(\"Enter your age: \"))"
   ]
  },
  {
   "cell_type": "code",
   "execution_count": 8,
   "id": "30708fbd-f6fd-4103-bba6-8b2a311c820f",
   "metadata": {},
   "outputs": [
    {
     "name": "stdout",
     "output_type": "stream",
     "text": [
      "Sorry, you are not aligible to vote.\n"
     ]
    }
   ],
   "source": [
    "if age > 17:\n",
    "    print(\"you are aligible to vote!\")\n",
    "else:\n",
    "    print(\"Sorry, you are not aligible to vote.\")"
   ]
  },
  {
   "cell_type": "markdown",
   "id": "9eb2e4e4-c335-47ef-906d-2a7e8cee1629",
   "metadata": {},
   "source": [
    "### Q:no:3"
   ]
  },
  {
   "cell_type": "code",
   "execution_count": 9,
   "id": "2ad7f6c6-6c21-4ecf-9bdf-c926afd6ff92",
   "metadata": {},
   "outputs": [
    {
     "name": "stdin",
     "output_type": "stream",
     "text": [
      "Enter a number:  4\n"
     ]
    }
   ],
   "source": [
    "num = int(input(\"Enter a number: \"))"
   ]
  },
  {
   "cell_type": "code",
   "execution_count": 10,
   "id": "54a4899c-e7a8-4f19-ac6c-b47b63b9fc88",
   "metadata": {},
   "outputs": [
    {
     "name": "stdout",
     "output_type": "stream",
     "text": [
      "4 is an even number.\n"
     ]
    }
   ],
   "source": [
    "if num % 2 == 0:\n",
    "    print(f\"{num} is an even number.\")\n",
    "else:\n",
    "    print(f\"{num} is an odd number.\")"
   ]
  },
  {
   "cell_type": "markdown",
   "id": "59eca7ee-f5d0-4152-bc1c-85c31184cc0c",
   "metadata": {},
   "source": [
    "### Q:no:4"
   ]
  },
  {
   "cell_type": "code",
   "execution_count": 12,
   "id": "840e964a-c5d9-43ce-be2c-6e4f97248d19",
   "metadata": {},
   "outputs": [
    {
     "name": "stdin",
     "output_type": "stream",
     "text": [
      "Enter your number:  7\n"
     ]
    }
   ],
   "source": [
    "number = int(input(\"Enter your number: \"))"
   ]
  },
  {
   "cell_type": "code",
   "execution_count": 13,
   "id": "124fa205-4f4a-45d3-b69d-a1879d6c19f2",
   "metadata": {},
   "outputs": [
    {
     "name": "stdout",
     "output_type": "stream",
     "text": [
      "4 is not divisible by 7.\n"
     ]
    }
   ],
   "source": [
    "if num % 7 == 0:\n",
    "    print(f\"{num} is divisible by 7.\")\n",
    "else:\n",
    "    print(f\"{num} is not divisible by 7.\")"
   ]
  },
  {
   "cell_type": "markdown",
   "id": "3349d4c7-abdc-4445-ac76-8f89f847413b",
   "metadata": {},
   "source": [
    "### Q:no:5"
   ]
  },
  {
   "cell_type": "code",
   "execution_count": 14,
   "id": "5e68dcf4-8f61-4943-b0b5-0ddccd72526a",
   "metadata": {},
   "outputs": [
    {
     "name": "stdin",
     "output_type": "stream",
     "text": [
      "Enter a number:  7\n"
     ]
    }
   ],
   "source": [
    "num = int(input(\"Enter a number: \"))"
   ]
  },
  {
   "cell_type": "code",
   "execution_count": 15,
   "id": "501f8155-c6b8-4ab4-adc8-a1f76aa4aca1",
   "metadata": {},
   "outputs": [
    {
     "name": "stdout",
     "output_type": "stream",
     "text": [
      "Bye\n"
     ]
    }
   ],
   "source": [
    "if num %5 == 0:\n",
    "    print(\"Hello\")\n",
    "else:\n",
    "    print(\"Bye\")"
   ]
  },
  {
   "cell_type": "markdown",
   "id": "7c4bca71-c477-403b-89f6-e663690cbb1e",
   "metadata": {},
   "source": [
    "### Q:no :7"
   ]
  },
  {
   "cell_type": "code",
   "execution_count": 16,
   "id": "b6650d0d-0fc3-45af-b58f-ea121b0475de",
   "metadata": {},
   "outputs": [
    {
     "name": "stdin",
     "output_type": "stream",
     "text": [
      "Enter a number:  8\n"
     ]
    }
   ],
   "source": [
    "num = int(input(\"Enter a number: \"))"
   ]
  },
  {
   "cell_type": "code",
   "execution_count": 18,
   "id": "6667e83f-1b05-4e88-8c67-346d483a431a",
   "metadata": {},
   "outputs": [],
   "source": [
    "last_digit = num % 10"
   ]
  },
  {
   "cell_type": "code",
   "execution_count": 19,
   "id": "49ce5c4f-d0bd-43ba-a3b7-e23b63dda029",
   "metadata": {},
   "outputs": [
    {
     "name": "stdout",
     "output_type": "stream",
     "text": [
      "The last digit of 8 is 8.\n"
     ]
    }
   ],
   "source": [
    "print(f\"The last digit of {num} is {last_digit}.\")"
   ]
  },
  {
   "cell_type": "markdown",
   "id": "2a5c0024-07a3-430d-9d92-56975fe41a9a",
   "metadata": {},
   "source": [
    "### Q:no : 9"
   ]
  },
  {
   "cell_type": "code",
   "execution_count": 23,
   "id": "746f1a72-3705-4cf7-9d2a-ff16184d8191",
   "metadata": {},
   "outputs": [
    {
     "name": "stdin",
     "output_type": "stream",
     "text": [
      "Enter the length:  12\n",
      "Enter the breadth:  41\n"
     ]
    }
   ],
   "source": [
    "length = float(input(\"Enter the length: \"))\n",
    "breadth = float(input(\"Enter the breadth: \"))"
   ]
  },
  {
   "cell_type": "code",
   "execution_count": 24,
   "id": "a7916b2c-c85b-47f5-944c-40a94b8186a9",
   "metadata": {},
   "outputs": [
    {
     "name": "stdout",
     "output_type": "stream",
     "text": [
      "it is a red trangle.\n"
     ]
    }
   ],
   "source": [
    "if length == breadth:\n",
    "    print(\"it is a square.\")\n",
    "else:\n",
    "    print(\"it is a red trangle.\")"
   ]
  },
  {
   "cell_type": "markdown",
   "id": "90651b76-18c1-4478-b348-a79c4261b989",
   "metadata": {},
   "source": [
    "### Q:no :10"
   ]
  },
  {
   "cell_type": "code",
   "execution_count": 27,
   "id": "f7a3718a-5dff-4cf1-88fe-6c91bf06f3e9",
   "metadata": {},
   "outputs": [
    {
     "name": "stdin",
     "output_type": "stream",
     "text": [
      "Enter the first number: 21\n",
      "Enter the seconde number: 32\n"
     ]
    }
   ],
   "source": [
    "num1 = int(input(\"Enter the first number:\"))\n",
    "num2 = int(input(\"Enter the seconde number:\"))"
   ]
  },
  {
   "cell_type": "code",
   "execution_count": 28,
   "id": "43065055-f8da-4040-91f1-3d5cd97ebd1f",
   "metadata": {},
   "outputs": [
    {
     "name": "stdout",
     "output_type": "stream",
     "text": [
      "The greatest number is 32.\n"
     ]
    }
   ],
   "source": [
    "if num1 > num2:\n",
    "    print(f\"The greatest number is {num1}.\")\n",
    "elif num2 > num1:\n",
    "    print(f\"The greatest number is {num2}.\")\n",
    "else:\n",
    "    print(\"Both numbers are equal.\")"
   ]
  },
  {
   "cell_type": "markdown",
   "id": "d49b86b8-5f6d-4581-b746-e12212044977",
   "metadata": {},
   "source": [
    "### Q:no :11"
   ]
  },
  {
   "cell_type": "code",
   "execution_count": 30,
   "id": "b9a40577-6def-4b88-8a58-d2f87be1012f",
   "metadata": {},
   "outputs": [
    {
     "name": "stdin",
     "output_type": "stream",
     "text": [
      "Enter the quantity of items:  1000\n"
     ]
    }
   ],
   "source": [
    "quantity = int(input(\"Enter the quantity of items: \"))"
   ]
  },
  {
   "cell_type": "code",
   "execution_count": 31,
   "id": "82167ff4-3193-476c-923a-71773380023a",
   "metadata": {},
   "outputs": [],
   "source": [
    "unit_price = 100"
   ]
  },
  {
   "cell_type": "code",
   "execution_count": 35,
   "id": "df7a926f-0620-4659-806e-fbcf2161868d",
   "metadata": {},
   "outputs": [],
   "source": [
    "total_cost = quantity * unit_price"
   ]
  },
  {
   "cell_type": "code",
   "execution_count": 36,
   "id": "0f94c93a-d90e-4985-a55f-d3d77898865b",
   "metadata": {},
   "outputs": [
    {
     "name": "stdout",
     "output_type": "stream",
     "text": [
      "You received a 10% discount! Your final total cost is: $90000.00\n"
     ]
    }
   ],
   "source": [
    "if total_cost > 1000:\n",
    "    discount = total_cost * 0.10  # 10% discount\n",
    "    total_cost -= discount  # Deduct discount\n",
    "    print(f\"You received a 10% discount! Your final total cost is: ${total_cost:.2f}\")\n",
    "else:\n",
    "    print(f\"Your total cost is: ${total_cost:.2f}\")"
   ]
  },
  {
   "cell_type": "markdown",
   "id": "36053749-ff1d-41dd-8d7a-30254df26a60",
   "metadata": {},
   "source": [
    "### Q:no :12"
   ]
  },
  {
   "cell_type": "code",
   "execution_count": 79,
   "id": "3281fbae-c1de-4bf9-a8e0-dd3b0be94d31",
   "metadata": {},
   "outputs": [],
   "source": [
    "#A school has following rules for grading system:\n",
    "#a. Below 25 - F\n",
    "\n",
    "#b. 25 to 45 - E\n",
    "\n",
    "#c. 45 to 50 - D\n",
    "\n",
    "#d. 50 to 60 - C\n",
    "\n",
    "#e. 60 to 80 - B\n",
    "\n",
    "#f. Above 80 - A\n",
    "\n",
    "#Ask user to enter marks and print the corresponding grade.\n",
    "\n"
   ]
  },
  {
   "cell_type": "code",
   "execution_count": 37,
   "id": "67f720bd-fb66-42a5-a62a-6e4d4466dfa2",
   "metadata": {},
   "outputs": [
    {
     "name": "stdin",
     "output_type": "stream",
     "text": [
      "Enter your marks:  70\n"
     ]
    }
   ],
   "source": [
    "marks = int(input(\"Enter your marks: \"))"
   ]
  },
  {
   "cell_type": "code",
   "execution_count": 43,
   "id": "7acfa561-b0eb-4ea2-9e2a-e25a272c097b",
   "metadata": {},
   "outputs": [],
   "source": [
    "if marks < 25:\n",
    "    grade = \"F\"\n",
    "elif 25 <= marks < 45:\n",
    "    grade = \"E\"\n",
    "elif 45 <= marks < 50:\n",
    "    grade = \"D\"\n",
    "elif 50 <= marks < 60:\n",
    "    grade = \"C\"\n",
    "elif 60 <= marks < 80:\n",
    "    grade = \"B\"\n",
    "else:  # marks >= 80\n",
    "    grade = \"A\""
   ]
  },
  {
   "cell_type": "code",
   "execution_count": 44,
   "id": "3e2257b7-83a5-4683-a060-3f2aeedf9b21",
   "metadata": {},
   "outputs": [
    {
     "name": "stdout",
     "output_type": "stream",
     "text": [
      "Your grade is: B\n"
     ]
    }
   ],
   "source": [
    "print(f\"Your grade is: {grade}\")"
   ]
  },
  {
   "cell_type": "markdown",
   "id": "2a03f542-5d24-492c-b596-4d8f6f5caaa8",
   "metadata": {},
   "source": [
    "### Q:no :14"
   ]
  },
  {
   "cell_type": "code",
   "execution_count": 78,
   "id": "2c79be5b-f031-44e5-918e-b58c1d7b6fad",
   "metadata": {},
   "outputs": [],
   "source": [
    "#A student will not be allowed to sit in exam if his/her attendence is less than 75%.\n",
    "\n",
    "#Take following input from user\n",
    "\n",
    "#Number of classes held\n",
    "\n",
    "#Number of classes attended.\n",
    "\n",
    "#And print\n",
    "\n",
    "#percentage of class attended\n",
    "\n",
    "#\"Is student is allowed to sit in exam or not.\n",
    "\n"
   ]
  },
  {
   "cell_type": "code",
   "execution_count": 49,
   "id": "c776ff03-8780-4e89-8080-edff5fd09414",
   "metadata": {},
   "outputs": [
    {
     "name": "stdin",
     "output_type": "stream",
     "text": [
      "Enter the number of classes held 61\n",
      "Enter the number of classes attended 31\n"
     ]
    }
   ],
   "source": [
    "classes_held = int(input(\"Enter the number of classes held\"))\n",
    "classes_attended = int(input(\"Enter the number of classes attended\"))"
   ]
  },
  {
   "cell_type": "code",
   "execution_count": 50,
   "id": "4f10c102-758b-4ebc-9167-aa3a126e4d2c",
   "metadata": {},
   "outputs": [],
   "source": [
    "attendance_percentage = (classes_attended / classes_held) * 100"
   ]
  },
  {
   "cell_type": "code",
   "execution_count": 51,
   "id": "c900c626-6862-4f32-b725-2910588d2630",
   "metadata": {},
   "outputs": [
    {
     "name": "stdout",
     "output_type": "stream",
     "text": [
      "your attendance percentage is: 50.82%\n"
     ]
    }
   ],
   "source": [
    "print(f\"your attendance percentage is: {attendance_percentage:.2f}%\")"
   ]
  },
  {
   "cell_type": "code",
   "execution_count": 52,
   "id": "b015c268-d9fd-41e6-a07f-ca467417062d",
   "metadata": {},
   "outputs": [
    {
     "name": "stdout",
     "output_type": "stream",
     "text": [
      "sorry,you are not allowed to set in the exam due to low attendance.\n"
     ]
    }
   ],
   "source": [
    "if attendance_percentage >= 75:\n",
    "    print(\"you are allowed to set in the exam.\")\n",
    "else:\n",
    "    print(\"sorry,you are not allowed to set in the exam due to low attendance.\")"
   ]
  },
  {
   "cell_type": "markdown",
   "id": "3d772364-0e14-4bc2-93c0-767d1f92f4f2",
   "metadata": {},
   "source": [
    "### Q:no :14"
   ]
  },
  {
   "cell_type": "code",
   "execution_count": 77,
   "id": "fbdeffa2-70a8-4612-8f2b-defeb4acc177",
   "metadata": {},
   "outputs": [],
   "source": [
    "#Modify the above question to allow student to sit if he/she has medical cause. Ask user if he/she has medical cause\n",
    "#or not ( 'Y' or 'N' ) and print accordingly."
   ]
  },
  {
   "cell_type": "code",
   "execution_count": 53,
   "id": "4f3e1ad5-fb1b-43ca-ae85-e3bae32b2eea",
   "metadata": {},
   "outputs": [
    {
     "name": "stdin",
     "output_type": "stream",
     "text": [
      "Enter the number of classes held 51\n",
      "Enter the number of classes attended 41\n"
     ]
    }
   ],
   "source": [
    "classes_held = int(input(\"Enter the number of classes held\"))\n",
    "classes_attended = int(input(\"Enter the number of classes attended\"))"
   ]
  },
  {
   "cell_type": "code",
   "execution_count": 54,
   "id": "e8a64c50-9366-497d-bef4-568f79a94086",
   "metadata": {},
   "outputs": [],
   "source": [
    "attendance_percentage = (classes_attended / classes_held) * 100"
   ]
  },
  {
   "cell_type": "code",
   "execution_count": 55,
   "id": "0b793765-8519-4444-8bff-2394e036f1e3",
   "metadata": {},
   "outputs": [
    {
     "name": "stdout",
     "output_type": "stream",
     "text": [
      "your attendance percentage is: 80.39%\n"
     ]
    }
   ],
   "source": [
    "print(f\"your attendance percentage is: {attendance_percentage:.2f}%\")"
   ]
  },
  {
   "cell_type": "code",
   "execution_count": 68,
   "id": "a304a269-1be5-470c-a87d-d44d98b7a7da",
   "metadata": {},
   "outputs": [
    {
     "name": "stdout",
     "output_type": "stream",
     "text": [
      "you are allowed to set in the exam.\n"
     ]
    }
   ],
   "source": [
    "if attendance_percentage >= 75:\n",
    "    print(\"you are allowed to set in the exam.\")\n",
    "else:\n",
    "    medical_cause = input(\"Do you have a medical cause? (Y/N) :\"),stripl().upper()"
   ]
  },
  {
   "cell_type": "code",
   "execution_count": 70,
   "id": "594408d7-7641-4464-a963-0cc0e94b35ca",
   "metadata": {},
   "outputs": [
    {
     "ename": "IndentationError",
     "evalue": "unindent does not match any outer indentation level (<string>, line 3)",
     "output_type": "error",
     "traceback": [
      "\u001b[1;36m  File \u001b[1;32m<string>:3\u001b[1;36m\u001b[0m\n\u001b[1;33m    else:\u001b[0m\n\u001b[1;37m         ^\u001b[0m\n\u001b[1;31mIndentationError\u001b[0m\u001b[1;31m:\u001b[0m unindent does not match any outer indentation level\n"
     ]
    }
   ],
   "source": [
    " if medical_cause == 'Y':\n",
    "        print(\"You are allowed to sit in the exam due to medical reasons.\")\n",
    "    else:\n",
    "        print(\"Sorry, you are not allowed to sit in the exam due to low attendance.\")"
   ]
  },
  {
   "cell_type": "markdown",
   "id": "c55d50b5-8952-4847-acfa-6ba65a58971b",
   "metadata": {},
   "source": [
    "### Q:no :15"
   ]
  },
  {
   "cell_type": "code",
   "execution_count": 71,
   "id": "8b2fdda7-4aaa-4de8-baa9-f9a89ee5aa41",
   "metadata": {},
   "outputs": [
    {
     "name": "stdin",
     "output_type": "stream",
     "text": [
      "Enter a year:  4\n"
     ]
    }
   ],
   "source": [
    "year = int(input(\"Enter a year: \"))"
   ]
  },
  {
   "cell_type": "code",
   "execution_count": 72,
   "id": "f2c76880-f8a7-482d-8ea2-d3d80e8af52a",
   "metadata": {},
   "outputs": [
    {
     "name": "stdout",
     "output_type": "stream",
     "text": [
      "4 is a leap year.\n"
     ]
    }
   ],
   "source": [
    "if (year % 4 == 0 and year % 100 != 0) or (year % 400 == 0):\n",
    "    print(f\"{year} is a leap year.\")\n",
    "else:\n",
    "    print(f\"{year} is not a leap year.\")"
   ]
  },
  {
   "cell_type": "markdown",
   "id": "6a2a1072-e8d7-488f-99b0-65d019186559",
   "metadata": {},
   "source": [
    "### Q:no :16"
   ]
  },
  {
   "cell_type": "code",
   "execution_count": 76,
   "id": "508029fe-2ffc-4363-93d1-ea2a0a76ab6d",
   "metadata": {},
   "outputs": [],
   "source": [
    "#Ask user to enter age, gender ( M or F ), marital status ( Y or N ) and then using following rules print their place of service.\n",
    "#if employee is female, then she will work only in urban areas.\n",
    "\n",
    "#if employee is a male and age is in between 20 to 40 then he may work in anywhere\n",
    "\n",
    "#if employee is male and age is in between 40 t0 60 then he will work in urban areas only.\n",
    "\n",
    "#And any other input of age should print \"ERROR\""
   ]
  },
  {
   "cell_type": "code",
   "execution_count": 73,
   "id": "41db0da1-f991-49ae-8c27-46f3b1bfefe8",
   "metadata": {},
   "outputs": [
    {
     "name": "stdin",
     "output_type": "stream",
     "text": [
      "Enter your age:  16\n",
      "Enter your gender (M/F):  31\n",
      "Enter marital status (Y/N):  4\n"
     ]
    }
   ],
   "source": [
    "age = int(input(\"Enter your age: \"))\n",
    "gender = input(\"Enter your gender (M/F): \").strip().upper()\n",
    "marital_status = input(\"Enter marital status (Y/N): \").strip().upper()"
   ]
  },
  {
   "cell_type": "code",
   "execution_count": 74,
   "id": "92d89a37-fa64-4785-93e9-a73afcf7ef15",
   "metadata": {},
   "outputs": [
    {
     "name": "stdout",
     "output_type": "stream",
     "text": [
      "ERROR: Invalid gender input.\n"
     ]
    }
   ],
   "source": [
    "if gender == \"F\":\n",
    "    print(\"You will work only in urban areas.\")\n",
    "elif gender == \"M\":\n",
    "    if 20 <= age <= 40:\n",
    "        print(\"You may work anywhere.\")\n",
    "    elif 40 <= age <= 60:\n",
    "        print(\"You will work only in urban areas.\")\n",
    "    else:\n",
    "        print(\"ERROR: Invalid age input.\")\n",
    "else:\n",
    "    print(\"ERROR: Invalid gender input.\")"
   ]
  },
  {
   "cell_type": "markdown",
   "id": "ecb6cdfe-8415-41c7-a055-1ef6ae51a6e4",
   "metadata": {},
   "source": [
    "### Q: no: 17"
   ]
  },
  {
   "cell_type": "code",
   "execution_count": 75,
   "id": "96b7e353-0a72-4f6c-a411-4386182656fa",
   "metadata": {},
   "outputs": [],
   "source": [
    "#Write a program to calculate the electricity bill (accept number of unit from user) according to the following criteria : Unit Price\n",
    "#uptp 100 units no charge Next 200 units Rs 5 per unit After 200 units Rs 10 per unit (For example if input unit is 350 than total bill amount\n",
    "#is Rs.3500 (For example if input unit is 97 than total bill amount is Rs.0 (For example if input unit is 150 than total bill amount is Rs.750"
   ]
  },
  {
   "cell_type": "code",
   "execution_count": 80,
   "id": "22aaaab9-2f54-4f92-bff7-e6a1848b92b4",
   "metadata": {},
   "outputs": [
    {
     "name": "stdin",
     "output_type": "stream",
     "text": [
      "Enter the number of units consumed:  43\n"
     ]
    }
   ],
   "source": [
    "units = int(input(\"Enter the number of units consumed: \"))"
   ]
  },
  {
   "cell_type": "code",
   "execution_count": 81,
   "id": "1b13da6f-c894-4ef4-9c90-1ae2a6b4f58a",
   "metadata": {},
   "outputs": [],
   "source": [
    "bill_amount = 0"
   ]
  },
  {
   "cell_type": "code",
   "execution_count": 82,
   "id": "b8bc3f2b-dea5-4ec1-ac9f-92e8b9b8cd52",
   "metadata": {},
   "outputs": [],
   "source": [
    "if units <= 100:\n",
    "    bill_amount = 0  # No charge for first 100 units\n",
    "elif units <= 300:\n",
    "    bill_amount = (units - 100) * 5  # Rs. 5 per unit for next 200 units\n",
    "else:\n",
    "    bill_amount = (200 * 5) + ((units - 300) * 10)  # Rs. 5 per unit for next 200, Rs. 10 per unit after 300\n"
   ]
  },
  {
   "cell_type": "code",
   "execution_count": 83,
   "id": "db63df86-4546-4df7-9f36-7d1ae7c988c3",
   "metadata": {},
   "outputs": [
    {
     "name": "stdout",
     "output_type": "stream",
     "text": [
      "Total electricity bill amount is: Rs.0\n"
     ]
    }
   ],
   "source": [
    "print(f\"Total electricity bill amount is: Rs.{bill_amount}\")"
   ]
  },
  {
   "cell_type": "markdown",
   "id": "2bbd91e9-345f-40c7-90fc-28eecd813f3e",
   "metadata": {},
   "source": [
    "### Q: no:19"
   ]
  },
  {
   "cell_type": "code",
   "execution_count": 84,
   "id": "f74e96b8-c513-4478-818e-034554cdfadf",
   "metadata": {},
   "outputs": [],
   "source": [
    "#Take input of age of 3 people by user and determine oldest and youngest among them."
   ]
  },
  {
   "cell_type": "code",
   "execution_count": 85,
   "id": "54a30165-13e7-4b2e-9608-4f8b4b98e86a",
   "metadata": {},
   "outputs": [
    {
     "name": "stdin",
     "output_type": "stream",
     "text": [
      "Enter the age of first person:  41\n",
      "Enter the age of second person:  51\n",
      "Enter the age of third person:  61\n"
     ]
    }
   ],
   "source": [
    "age1 = int(input(\"Enter the age of first person: \"))\n",
    "age2 = int(input(\"Enter the age of second person: \"))\n",
    "age3 = int(input(\"Enter the age of third person: \"))"
   ]
  },
  {
   "cell_type": "code",
   "execution_count": 86,
   "id": "0cd4b3b1-718d-4d74-ab3a-9847322ab5cf",
   "metadata": {},
   "outputs": [],
   "source": [
    "oldest = max(age1, age2, age3)"
   ]
  },
  {
   "cell_type": "code",
   "execution_count": 87,
   "id": "581eb491-4ee0-482e-8d9f-32e99e6773fc",
   "metadata": {},
   "outputs": [],
   "source": [
    "youngest = min(age1, age2, age3)"
   ]
  },
  {
   "cell_type": "code",
   "execution_count": 88,
   "id": "287a610d-0db1-4f68-ae93-77a127d35a3a",
   "metadata": {},
   "outputs": [
    {
     "name": "stdout",
     "output_type": "stream",
     "text": [
      "The oldest person is 61 years old.\n",
      "The youngest person is 41 years old.\n"
     ]
    }
   ],
   "source": [
    "print(f\"The oldest person is {oldest} years old.\")\n",
    "print(f\"The youngest person is {youngest} years old.\")"
   ]
  },
  {
   "cell_type": "code",
   "execution_count": 89,
   "id": "3cb8c6f1-94ec-4a26-a8f9-f36657211143",
   "metadata": {},
   "outputs": [],
   "source": [
    "# compelete"
   ]
  }
 ],
 "metadata": {
  "kernelspec": {
   "display_name": "Python 3 (ipykernel)",
   "language": "python",
   "name": "python3"
  },
  "language_info": {
   "codemirror_mode": {
    "name": "ipython",
    "version": 3
   },
   "file_extension": ".py",
   "mimetype": "text/x-python",
   "name": "python",
   "nbconvert_exporter": "python",
   "pygments_lexer": "ipython3",
   "version": "3.12.7"
  }
 },
 "nbformat": 4,
 "nbformat_minor": 5
}

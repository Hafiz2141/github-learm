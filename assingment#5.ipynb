{
 "cells": [
  {
   "cell_type": "markdown",
   "id": "ef410440-03ed-498f-b17e-1297e249176b",
   "metadata": {},
   "source": [
    "## Create an encapsulation class i.e. StudentLogin()"
   ]
  },
  {
   "cell_type": "code",
   "execution_count": 3,
   "id": "82b02173-3024-4ae4-b7c8-246d005fa986",
   "metadata": {},
   "outputs": [],
   "source": [
    "class StudentLogin:\n",
    "    def __init__(self, username, password):\n",
    "        self.__username = username \n",
    "        self.__password = password \n",
    "  \n",
    "    def get_username(self):\n",
    "        return self.__username\n",
    "\n",
    "  \n",
    "    def set_username(self, new_username):\n",
    "        if new_username:\n",
    "            self.__username = new_username\n",
    "        else:\n",
    "            print(\"Username cannot be empty.\")\n",
    "\n",
    "  \n",
    "    def get_password(self):\n",
    "        return \"********\" \n",
    "\n",
    "  \n",
    "    def set_password(self, new_password):\n",
    "        if len(new_password) >= 6:\n",
    "            self.__password = new_password\n",
    "        else:\n",
    "            print(\"Password must be at least 6 characters long.\")\n",
    "\n",
    "    # Method to verify login\n",
    "    def login(self, input_username, input_password):\n",
    "        return self.__username == input_username and self.__password == input_password\n"
   ]
  },
  {
   "cell_type": "code",
   "execution_count": 5,
   "id": "db18efe7-1338-4114-9afa-1a66911a3343",
   "metadata": {},
   "outputs": [
    {
     "name": "stdout",
     "output_type": "stream",
     "text": [
      "Username: john_doe\n",
      "Login successful!\n",
      "Updated password: ********\n"
     ]
    }
   ],
   "source": [
    "student = StudentLogin(\"john_doe\", \"pass123\")\n",
    "\n",
    "print(\"Username:\", student.get_username())\n",
    "\n",
    "if student.login(\"john_doe\", \"pass123\"):\n",
    "    print(\"Login successful!\")\n",
    "else:\n",
    "    print(\"Login failed.\")\n",
    "\n",
    "student.set_password(\"newpass456\")\n",
    "print(\"Updated password:\", student.get_password())  \n"
   ]
  },
  {
   "cell_type": "markdown",
   "id": "8fe7b71d-b87d-4e39-8452-a7bc54300636",
   "metadata": {},
   "source": [
    "## Initialzie 2 static but private attributes i.e. __username and __password"
   ]
  },
  {
   "cell_type": "code",
   "execution_count": 8,
   "id": "9836ff68-da52-408a-acb8-67c0bf0a6a6c",
   "metadata": {},
   "outputs": [],
   "source": [
    "class StudentLogin:\n",
    "    __username = \"admin\"  \n",
    "    __password = \"admin123\"  \n",
    "\n",
    "    @staticmethod\n",
    "    def login(input_username, input_password):\n",
    "        return input_username == StudentLogin.__username and input_password == StudentLogin.__password\n",
    "\n",
    "    @staticmethod\n",
    "    def get_username():\n",
    "        return StudentLogin.__username\n",
    "\n",
    "    @staticmethod\n",
    "    def set_username(new_username):\n",
    "        if new_username:\n",
    "            StudentLogin.__username = new_username\n",
    "        else:\n",
    "            print(\"Username cannot be empty.\")\n",
    "\n",
    "    @staticmethod\n",
    "    def set_password(new_password):\n",
    "        if len(new_password) >= 6:\n",
    "            StudentLogin.__password = new_password\n",
    "        else:\n",
    "            print(\"Password must be at least 6 characters long.\")\n"
   ]
  },
  {
   "cell_type": "code",
   "execution_count": 10,
   "id": "948754cf-cdc2-434a-90f0-2ff6420a9c0c",
   "metadata": {},
   "outputs": [
    {
     "name": "stdout",
     "output_type": "stream",
     "text": [
      "True\n",
      "True\n",
      "True\n"
     ]
    }
   ],
   "source": [
    "print(StudentLogin.login(\"admin\", \"admin123\")) \n",
    "\n",
    "StudentLogin.set_password(\"newpass123\")\n",
    "print(StudentLogin.login(\"admin\", \"newpass123\")) \n",
    "\n",
    "StudentLogin.set_username(\"student\")\n",
    "print(StudentLogin.login(\"student\", \"newpass123\"))  \n"
   ]
  },
  {
   "cell_type": "markdown",
   "id": "8ee8a251-ebb9-4739-b9a1-f9e1df589d93",
   "metadata": {},
   "source": [
    "### create one private method i.e. __dbconnectivity that will validate your username and password\\\n",
    "### if both are valid print Connection Built\n",
    "### if either one is wrong print Failed to Conneci"
   ]
  },
  {
   "cell_type": "code",
   "execution_count": 14,
   "id": "ad5768d7-d6a9-4aba-a378-ef338ddc694f",
   "metadata": {},
   "outputs": [],
   "source": [
    "class StudentLogin:\n",
    "    __username = \"admin\"    \n",
    "    __password = \"admin123\" \n",
    "\n",
    "    @staticmethod\n",
    "    def __dbconnectivity(input_username, input_password):\n",
    "        if input_username == StudentLogin.__username and input_password == StudentLogin.__password:\n",
    "            print(\"Connection Built\")\n",
    "        else:\n",
    "            print(\"Failed to Connect\")\n",
    "\n",
    "    @staticmethod\n",
    "    def try_connect(input_username, input_password):\n",
    "        StudentLogin.__dbconnectivity(input_username, input_password)\n"
   ]
  },
  {
   "cell_type": "code",
   "execution_count": 18,
   "id": "4d491fc9-91f5-47a3-ba60-33948a9e6ac0",
   "metadata": {},
   "outputs": [
    {
     "name": "stdout",
     "output_type": "stream",
     "text": [
      "Connection Built\n"
     ]
    }
   ],
   "source": [
    "# Correct credentials\n",
    "StudentLogin.try_connect(\"admin\", \"admin123\")  "
   ]
  },
  {
   "cell_type": "code",
   "execution_count": 20,
   "id": "e282d6be-7065-4c55-9caf-b9d3024aa531",
   "metadata": {},
   "outputs": [
    {
     "name": "stdout",
     "output_type": "stream",
     "text": [
      "Failed to Connect\n"
     ]
    }
   ],
   "source": [
    "StudentLogin.try_connect(\"admin\", \"wrongpass\") "
   ]
  },
  {
   "cell_type": "markdown",
   "id": "5b37c891-eb89-493e-be26-e3f4697c33c0",
   "metadata": {},
   "source": [
    "## create one public method i.e. update_password to update your private password\n",
    " "
   ]
  },
  {
   "cell_type": "code",
   "execution_count": 23,
   "id": "a622f098-be14-425f-a97f-e14b7350337d",
   "metadata": {},
   "outputs": [],
   "source": [
    "class StudentLogin:\n",
    "    __username = \"admin\"     \n",
    "    __password = \"admin123\"  \n",
    "\n",
    "    @staticmethod\n",
    "    def __dbconnectivity(input_username, input_password):\n",
    "        if input_username == StudentLogin.__username and input_password == StudentLogin.__password:\n",
    "            print(\"Connection Built\")\n",
    "        else:\n",
    "            print(\"Failed to Connect\")\n",
    "\n",
    "    @staticmethod\n",
    "    def try_connect(input_username, input_password):\n",
    "        StudentLogin.__dbconnectivity(input_username, input_password)\n",
    "\n",
    "    @staticmethod\n",
    "    def update_password(new_password):\n",
    "        if len(new_password) >= 6:\n",
    "            StudentLogin.__password = new_password\n",
    "            print(\"Password updated successfully.\")\n",
    "        else:\n",
    "            print(\"Password must be at least 6 characters long.\")\n"
   ]
  },
  {
   "cell_type": "code",
   "execution_count": 25,
   "id": "e1b265f7-9f97-476b-87f9-eb53bada61aa",
   "metadata": {},
   "outputs": [
    {
     "name": "stdout",
     "output_type": "stream",
     "text": [
      "Connection Built\n",
      "Password updated successfully.\n"
     ]
    }
   ],
   "source": [
    "\n",
    "StudentLogin.try_connect(\"admin\", \"admin123\") \n",
    "StudentLogin.update_password(\"newpass456\")     # Password updated successfully."
   ]
  },
  {
   "cell_type": "code",
   "execution_count": 27,
   "id": "8fafb3d3-86c8-454f-a5de-7f6a1109155c",
   "metadata": {},
   "outputs": [
    {
     "name": "stdout",
     "output_type": "stream",
     "text": [
      "Connection Built\n",
      "Failed to Connect\n"
     ]
    }
   ],
   "source": [
    "StudentLogin.try_connect(\"admin\", \"newpass456\")  \n",
    "\n",
    "StudentLogin.try_connect(\"admin\", \"admin123\")   \n"
   ]
  },
  {
   "cell_type": "code",
   "execution_count": 29,
   "id": "85ad253b-4188-4493-bb5f-c6608db5a298",
   "metadata": {},
   "outputs": [],
   "source": [
    "# complete"
   ]
  }
 ],
 "metadata": {
  "kernelspec": {
   "display_name": "Python [conda env:anaconda2]",
   "language": "python",
   "name": "conda-env-anaconda2-py"
  },
  "language_info": {
   "codemirror_mode": {
    "name": "ipython",
    "version": 3
   },
   "file_extension": ".py",
   "mimetype": "text/x-python",
   "name": "python",
   "nbconvert_exporter": "python",
   "pygments_lexer": "ipython3",
   "version": "3.12.7"
  }
 },
 "nbformat": 4,
 "nbformat_minor": 5
}

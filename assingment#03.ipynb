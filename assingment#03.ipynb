{
 "cells": [
  {
   "cell_type": "markdown",
   "id": "36b537e8-09fd-4b8a-8171-fc0de7cf9a6e",
   "metadata": {},
   "source": [
    "### Q:no:01"
   ]
  },
  {
   "cell_type": "code",
   "execution_count": 1,
   "id": "b76c8da2-7d9d-4aa1-8ba7-9bb81f5727d4",
   "metadata": {},
   "outputs": [
    {
     "name": "stdin",
     "output_type": "stream",
     "text": [
      "Enter a string: hammad\n"
     ]
    }
   ],
   "source": [
    "string = input(\"Enter a string:\")"
   ]
  },
  {
   "cell_type": "code",
   "execution_count": 3,
   "id": "8c7cb4c3-c39f-4a70-beaf-e7125dbc7b43",
   "metadata": {},
   "outputs": [],
   "source": [
    "vowles = \"aeiouAEIOU\""
   ]
  },
  {
   "cell_type": "code",
   "execution_count": 5,
   "id": "a3ad8237-c635-411e-be9f-4a0bafb9a851",
   "metadata": {},
   "outputs": [],
   "source": [
    "count = sum(1 for char in string if char in vowles)\n",
    "            "
   ]
  },
  {
   "cell_type": "code",
   "execution_count": 6,
   "id": "4ae83f17-740b-47cf-aa58-0cb2f56bf6d6",
   "metadata": {},
   "outputs": [
    {
     "name": "stdout",
     "output_type": "stream",
     "text": [
      "number of vowles: aeiouAEIOU\n"
     ]
    }
   ],
   "source": [
    "print(\"number of vowles:\",vowles)"
   ]
  },
  {
   "cell_type": "markdown",
   "id": "5883adee-9262-4c9d-96ac-8dc4949208d6",
   "metadata": {},
   "source": [
    "### Q:no:2"
   ]
  },
  {
   "cell_type": "code",
   "execution_count": 8,
   "id": "31b6a39d-072e-419d-a079-4409b453728c",
   "metadata": {},
   "outputs": [
    {
     "name": "stdin",
     "output_type": "stream",
     "text": [
      "Enter a string: hammad\n"
     ]
    }
   ],
   "source": [
    "string = input(\"Enter a string:\")"
   ]
  },
  {
   "cell_type": "code",
   "execution_count": 11,
   "id": "63b6fe22-2e57-461b-8554-211450b5ce1c",
   "metadata": {},
   "outputs": [],
   "source": [
    "uppercase, lowercase, digits, spaces = 0, 0, 0, 0,"
   ]
  },
  {
   "cell_type": "code",
   "execution_count": 12,
   "id": "728a554d-9abf-483b-a5f5-6b33a811a38b",
   "metadata": {},
   "outputs": [],
   "source": [
    "for char in string:\n",
    "    if char.isupper():\n",
    "        uppercase += 1\n",
    "    elif char.islower():\n",
    "        lowercase += 1\n",
    "    elif char.isdigit():\n",
    "        digits += 1\n",
    "    elif char.isspace():\n",
    "        spaces += 1"
   ]
  },
  {
   "cell_type": "code",
   "execution_count": 14,
   "id": "7688a31c-88a7-4729-8eb9-27472702eeed",
   "metadata": {},
   "outputs": [
    {
     "name": "stdout",
     "output_type": "stream",
     "text": [
      "Uppercase letter: 0\n",
      "Lowercase letter: 6\n",
      "Didits: 0\n",
      "Whitespaces character: 0\n"
     ]
    }
   ],
   "source": [
    "print(\"Uppercase letter:\",uppercase)\n",
    "print(\"Lowercase letter:\",lowercase)\n",
    "print(\"Didits:\",digits)\n",
    "print(\"Whitespaces character:\",spaces)"
   ]
  },
  {
   "cell_type": "markdown",
   "id": "d747579b-4e8e-4779-a97e-1f66a0acc32a",
   "metadata": {},
   "source": [
    "### Q:no:3"
   ]
  },
  {
   "cell_type": "code",
   "execution_count": 16,
   "id": "a474bb0d-2751-479e-baa7-51a0b2562ae2",
   "metadata": {},
   "outputs": [
    {
     "name": "stdin",
     "output_type": "stream",
     "text": [
      "Enter a string: good\n"
     ]
    }
   ],
   "source": [
    "string = input(\"Enter a string:\")"
   ]
  },
  {
   "cell_type": "code",
   "execution_count": 17,
   "id": "ae003323-fb9c-4ba6-8cd2-c7992729d35f",
   "metadata": {},
   "outputs": [],
   "source": [
    "if len(string) > 1:\n",
    "    new_string = string[-1] + string[1:-1] + string[0]\n",
    "else:\n",
    "    new_string = string "
   ]
  },
  {
   "cell_type": "code",
   "execution_count": 18,
   "id": "43f0bb1c-66a5-4662-ae22-3bf66e708b3d",
   "metadata": {},
   "outputs": [
    {
     "name": "stdout",
     "output_type": "stream",
     "text": [
      "new string: doog\n"
     ]
    }
   ],
   "source": [
    "print(\"new string:\",new_string)"
   ]
  },
  {
   "cell_type": "markdown",
   "id": "19395756-f5fe-4306-863b-502207936c3b",
   "metadata": {},
   "source": [
    "### Q:no :4"
   ]
  },
  {
   "cell_type": "code",
   "execution_count": 19,
   "id": "4ab0da96-b418-460e-b184-522984ec8038",
   "metadata": {},
   "outputs": [
    {
     "name": "stdin",
     "output_type": "stream",
     "text": [
      "Enter a string: tiger\n"
     ]
    }
   ],
   "source": [
    "string = input(\"Enter a string:\")"
   ]
  },
  {
   "cell_type": "code",
   "execution_count": 20,
   "id": "0f0e7d85-0f02-4292-91e5-aeaa4f912f78",
   "metadata": {},
   "outputs": [],
   "source": [
    "reversed_string = string[::-1]"
   ]
  },
  {
   "cell_type": "code",
   "execution_count": 21,
   "id": "57afba02-5492-47fb-8123-bce59e9b9a65",
   "metadata": {},
   "outputs": [
    {
     "name": "stdout",
     "output_type": "stream",
     "text": [
      "Reversed string: regit\n"
     ]
    }
   ],
   "source": [
    "print(\"Reversed string:\",reversed_string)"
   ]
  },
  {
   "cell_type": "markdown",
   "id": "9fb232f4-e1e8-4265-ab94-4ef620de3bc1",
   "metadata": {},
   "source": [
    "### Q: no:5"
   ]
  },
  {
   "cell_type": "code",
   "execution_count": 22,
   "id": "ce913105-60fa-4906-a1c1-031869ba11d1",
   "metadata": {},
   "outputs": [
    {
     "name": "stdin",
     "output_type": "stream",
     "text": [
      "Enter a string: birds\n"
     ]
    }
   ],
   "source": [
    "string = input(\"Enter a string:\")"
   ]
  },
  {
   "cell_type": "code",
   "execution_count": 24,
   "id": "80d07997-7b52-4d10-9b73-93aa0969ef2f",
   "metadata": {},
   "outputs": [],
   "source": [
    "shifted_string = string[::1] + string[0]"
   ]
  },
  {
   "cell_type": "code",
   "execution_count": 25,
   "id": "b7acbbb9-ba52-4453-b726-7791b8dc9dab",
   "metadata": {},
   "outputs": [
    {
     "name": "stdout",
     "output_type": "stream",
     "text": [
      "Shifted string: birdsb\n"
     ]
    }
   ],
   "source": [
    "print(\"Shifted string:\",shifted_string)"
   ]
  },
  {
   "cell_type": "markdown",
   "id": "d1252dc2-6a1a-412e-a444-a6c9084314f5",
   "metadata": {},
   "source": [
    "### Q: no:6"
   ]
  },
  {
   "cell_type": "code",
   "execution_count": 27,
   "id": "c9faac59-95ca-4a55-b0db-979cc2680ae4",
   "metadata": {},
   "outputs": [
    {
     "name": "stdin",
     "output_type": "stream",
     "text": [
      "Enter your full name(first middle last):  Hafiz hammad\n"
     ]
    }
   ],
   "source": [
    "name = input(\"Enter your full name(first middle last): \")"
   ]
  },
  {
   "cell_type": "code",
   "execution_count": 34,
   "id": "2faff13b-3c0a-4594-b0ca-df52f122c414",
   "metadata": {},
   "outputs": [],
   "source": [
    "initials = name[0] + \". \"\n",
    "for i in range(1, len(name)):\n",
    "    if name[i] == \" \":\n",
    "        initials += name[i+1] + \". \""
   ]
  },
  {
   "cell_type": "code",
   "execution_count": 35,
   "id": "69247c15-b88d-4537-9865-51c2eebf665c",
   "metadata": {},
   "outputs": [
    {
     "name": "stdout",
     "output_type": "stream",
     "text": [
      "Initials: H. h.\n"
     ]
    }
   ],
   "source": [
    "print(\"Initials:\",initials.strip())"
   ]
  },
  {
   "cell_type": "markdown",
   "id": "7b6563e6-8a79-4f67-9006-f2d2c78770b6",
   "metadata": {},
   "source": [
    "### Q:no:7"
   ]
  },
  {
   "cell_type": "code",
   "execution_count": 36,
   "id": "368bb87b-df9e-4015-b4f3-8957f76e3387",
   "metadata": {},
   "outputs": [
    {
     "name": "stdin",
     "output_type": "stream",
     "text": [
      "Enter a string: uzair\n"
     ]
    }
   ],
   "source": [
    "string = input(\"Enter a string:\")"
   ]
  },
  {
   "cell_type": "code",
   "execution_count": 47,
   "id": "5972ff1c-149f-429a-bb49-e8fcb972245f",
   "metadata": {},
   "outputs": [],
   "source": [
    "cleaned_string = string.replace(\" \", \"\").lower()"
   ]
  },
  {
   "cell_type": "code",
   "execution_count": 48,
   "id": "08732e71-d97b-451d-8b91-c855efff9a21",
   "metadata": {},
   "outputs": [
    {
     "name": "stdout",
     "output_type": "stream",
     "text": [
      "The string is not a palindrome.\n"
     ]
    }
   ],
   "source": [
    "if cleaned_string == cleaned_string[::-1]:\n",
    "    print(\"The string is a palindrome.\")\n",
    "else:\n",
    "    print(\"The string is not a palindrome.\")"
   ]
  },
  {
   "cell_type": "markdown",
   "id": "e0e3295a-6a97-4b2c-a35c-9c8ae9542434",
   "metadata": {},
   "source": [
    "### Q:no:8"
   ]
  },
  {
   "cell_type": "code",
   "execution_count": 49,
   "id": "c04e9904-5551-4fea-b1b2-e4a0ae50f67d",
   "metadata": {},
   "outputs": [],
   "source": [
    "string = \"SHIFT\""
   ]
  },
  {
   "cell_type": "code",
   "execution_count": 54,
   "id": "0875484c-5db7-4a0e-bcc4-83d505e671a8",
   "metadata": {},
   "outputs": [
    {
     "name": "stdout",
     "output_type": "stream",
     "text": [
      "SHIFT\n",
      "HIFTS\n",
      "IFTSH\n",
      "FTSHI\n",
      "TSHIF\n"
     ]
    }
   ],
   "source": [
    "for i in range(len(string)):\n",
    "    print(string[i:] + string[:i])"
   ]
  },
  {
   "cell_type": "markdown",
   "id": "e26e98ab-f888-43eb-837e-e8a0d52e8386",
   "metadata": {},
   "source": [
    "### Q:no:9"
   ]
  },
  {
   "cell_type": "code",
   "execution_count": 55,
   "id": "f11ec139-494f-45a3-a2df-6091c5b8cf1d",
   "metadata": {},
   "outputs": [
    {
     "name": "stdin",
     "output_type": "stream",
     "text": [
      "Enter a password: 98765432\n"
     ]
    }
   ],
   "source": [
    "password = input(\"Enter a password:\")"
   ]
  },
  {
   "cell_type": "code",
   "execution_count": 56,
   "id": "59aba927-d551-4bbc-bd3f-51411200affa",
   "metadata": {},
   "outputs": [],
   "source": [
    "length = len(password) >= 8\n",
    "uppercase = any(char.isupper() for char in password)\n",
    "lowercase = any(char.islower() for char in password)\n",
    "digit = any(char.isdigit() for char in password)"
   ]
  },
  {
   "cell_type": "code",
   "execution_count": 57,
   "id": "59acab0e-6139-4c12-8215-b50b22b1cf43",
   "metadata": {},
   "outputs": [
    {
     "name": "stdout",
     "output_type": "stream",
     "text": [
      "Invalid password. Ensure it has at least 8 characters, one uppercase letter, one lowercase letter, and one digit.\n"
     ]
    }
   ],
   "source": [
    "if length and uppercase and lowercase and digit:\n",
    "    print(\"Password is valid!\")\n",
    "else:\n",
    "    print(\"Invalid password. Ensure it has at least 8 characters, one uppercase letter, one lowercase letter, and one digit.\")"
   ]
  },
  {
   "cell_type": "code",
   "execution_count": null,
   "id": "903b14e0-53c9-4582-afc4-9f126dbb62d7",
   "metadata": {},
   "outputs": [],
   "source": [
    "# complete"
   ]
  }
 ],
 "metadata": {
  "kernelspec": {
   "display_name": "Python 3 (ipykernel)",
   "language": "python",
   "name": "python3"
  },
  "language_info": {
   "codemirror_mode": {
    "name": "ipython",
    "version": 3
   },
   "file_extension": ".py",
   "mimetype": "text/x-python",
   "name": "python",
   "nbconvert_exporter": "python",
   "pygments_lexer": "ipython3",
   "version": "3.12.7"
  }
 },
 "nbformat": 4,
 "nbformat_minor": 5
}
